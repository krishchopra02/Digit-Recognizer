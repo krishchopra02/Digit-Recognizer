{
 "cells": [
  {
   "cell_type": "code",
   "execution_count": 1,
   "id": "helpful-bolivia",
   "metadata": {
    "_cell_guid": "b1076dfc-b9ad-4769-8c92-a6c4dae69d19",
    "_uuid": "8f2839f25d086af736a60e9eeb907d3b93b6e0e5",
    "execution": {
     "iopub.execute_input": "2021-06-23T08:28:52.177016Z",
     "iopub.status.busy": "2021-06-23T08:28:52.173024Z",
     "iopub.status.idle": "2021-06-23T08:28:52.181680Z",
     "shell.execute_reply": "2021-06-23T08:28:52.182215Z",
     "shell.execute_reply.started": "2021-06-23T08:11:13.469130Z"
    },
    "papermill": {
     "duration": 0.029476,
     "end_time": "2021-06-23T08:28:52.182503",
     "exception": false,
     "start_time": "2021-06-23T08:28:52.153027",
     "status": "completed"
    },
    "tags": []
   },
   "outputs": [
    {
     "name": "stdout",
     "output_type": "stream",
     "text": [
      "/kaggle/input/digit-recognizer/sample_submission.csv\n",
      "/kaggle/input/digit-recognizer/train.csv\n",
      "/kaggle/input/digit-recognizer/test.csv\n"
     ]
    }
   ],
   "source": [
    "# This Python 3 environment comes with many helpful analytics libraries installed\n",
    "# It is defined by the kaggle/python Docker image: https://github.com/kaggle/docker-python\n",
    "# For example, here's several helpful packages to load\n",
    "\n",
    "import numpy as np # linear algebra\n",
    "import pandas as pd # data processing, CSV file I/O (e.g. pd.read_csv)\n",
    "\n",
    "# Input data files are available in the read-only \"../input/\" directory\n",
    "# For example, running this (by clicking run or pressing Shift+Enter) will list all files under the input directory\n",
    "\n",
    "import os\n",
    "for dirname, _, filenames in os.walk('/kaggle/input'):\n",
    "    for filename in filenames:\n",
    "        print(os.path.join(dirname, filename))\n",
    "\n",
    "# You can write up to 20GB to the current directory (/kaggle/working/) that gets preserved as output when you create a version using \"Save & Run All\" \n",
    "# You can also write temporary files to /kaggle/temp/, but they won't be saved outside of the current session"
   ]
  },
  {
   "cell_type": "code",
   "execution_count": 2,
   "id": "brief-highland",
   "metadata": {
    "execution": {
     "iopub.execute_input": "2021-06-23T08:28:52.207974Z",
     "iopub.status.busy": "2021-06-23T08:28:52.207253Z",
     "iopub.status.idle": "2021-06-23T08:28:58.146415Z",
     "shell.execute_reply": "2021-06-23T08:28:58.145858Z",
     "shell.execute_reply.started": "2021-06-23T08:11:15.328172Z"
    },
    "papermill": {
     "duration": 5.953473,
     "end_time": "2021-06-23T08:28:58.146568",
     "exception": false,
     "start_time": "2021-06-23T08:28:52.193095",
     "status": "completed"
    },
    "tags": []
   },
   "outputs": [],
   "source": [
    "dataset_train = pd.read_csv('/kaggle/input/digit-recognizer/train.csv')\n",
    "dataset_test = pd.read_csv('/kaggle/input/digit-recognizer/test.csv')"
   ]
  },
  {
   "cell_type": "code",
   "execution_count": 3,
   "id": "visible-concentrate",
   "metadata": {
    "execution": {
     "iopub.execute_input": "2021-06-23T08:28:58.179693Z",
     "iopub.status.busy": "2021-06-23T08:28:58.178776Z",
     "iopub.status.idle": "2021-06-23T08:28:58.202418Z",
     "shell.execute_reply": "2021-06-23T08:28:58.202892Z",
     "shell.execute_reply.started": "2021-06-23T08:11:30.428229Z"
    },
    "papermill": {
     "duration": 0.045981,
     "end_time": "2021-06-23T08:28:58.203072",
     "exception": false,
     "start_time": "2021-06-23T08:28:58.157091",
     "status": "completed"
    },
    "tags": []
   },
   "outputs": [
    {
     "data": {
      "text/html": [
       "<div>\n",
       "<style scoped>\n",
       "    .dataframe tbody tr th:only-of-type {\n",
       "        vertical-align: middle;\n",
       "    }\n",
       "\n",
       "    .dataframe tbody tr th {\n",
       "        vertical-align: top;\n",
       "    }\n",
       "\n",
       "    .dataframe thead th {\n",
       "        text-align: right;\n",
       "    }\n",
       "</style>\n",
       "<table border=\"1\" class=\"dataframe\">\n",
       "  <thead>\n",
       "    <tr style=\"text-align: right;\">\n",
       "      <th></th>\n",
       "      <th>pixel0</th>\n",
       "      <th>pixel1</th>\n",
       "      <th>pixel2</th>\n",
       "      <th>pixel3</th>\n",
       "      <th>pixel4</th>\n",
       "      <th>pixel5</th>\n",
       "      <th>pixel6</th>\n",
       "      <th>pixel7</th>\n",
       "      <th>pixel8</th>\n",
       "      <th>pixel9</th>\n",
       "      <th>...</th>\n",
       "      <th>pixel774</th>\n",
       "      <th>pixel775</th>\n",
       "      <th>pixel776</th>\n",
       "      <th>pixel777</th>\n",
       "      <th>pixel778</th>\n",
       "      <th>pixel779</th>\n",
       "      <th>pixel780</th>\n",
       "      <th>pixel781</th>\n",
       "      <th>pixel782</th>\n",
       "      <th>pixel783</th>\n",
       "    </tr>\n",
       "  </thead>\n",
       "  <tbody>\n",
       "    <tr>\n",
       "      <th>0</th>\n",
       "      <td>0</td>\n",
       "      <td>0</td>\n",
       "      <td>0</td>\n",
       "      <td>0</td>\n",
       "      <td>0</td>\n",
       "      <td>0</td>\n",
       "      <td>0</td>\n",
       "      <td>0</td>\n",
       "      <td>0</td>\n",
       "      <td>0</td>\n",
       "      <td>...</td>\n",
       "      <td>0</td>\n",
       "      <td>0</td>\n",
       "      <td>0</td>\n",
       "      <td>0</td>\n",
       "      <td>0</td>\n",
       "      <td>0</td>\n",
       "      <td>0</td>\n",
       "      <td>0</td>\n",
       "      <td>0</td>\n",
       "      <td>0</td>\n",
       "    </tr>\n",
       "    <tr>\n",
       "      <th>1</th>\n",
       "      <td>0</td>\n",
       "      <td>0</td>\n",
       "      <td>0</td>\n",
       "      <td>0</td>\n",
       "      <td>0</td>\n",
       "      <td>0</td>\n",
       "      <td>0</td>\n",
       "      <td>0</td>\n",
       "      <td>0</td>\n",
       "      <td>0</td>\n",
       "      <td>...</td>\n",
       "      <td>0</td>\n",
       "      <td>0</td>\n",
       "      <td>0</td>\n",
       "      <td>0</td>\n",
       "      <td>0</td>\n",
       "      <td>0</td>\n",
       "      <td>0</td>\n",
       "      <td>0</td>\n",
       "      <td>0</td>\n",
       "      <td>0</td>\n",
       "    </tr>\n",
       "    <tr>\n",
       "      <th>2</th>\n",
       "      <td>0</td>\n",
       "      <td>0</td>\n",
       "      <td>0</td>\n",
       "      <td>0</td>\n",
       "      <td>0</td>\n",
       "      <td>0</td>\n",
       "      <td>0</td>\n",
       "      <td>0</td>\n",
       "      <td>0</td>\n",
       "      <td>0</td>\n",
       "      <td>...</td>\n",
       "      <td>0</td>\n",
       "      <td>0</td>\n",
       "      <td>0</td>\n",
       "      <td>0</td>\n",
       "      <td>0</td>\n",
       "      <td>0</td>\n",
       "      <td>0</td>\n",
       "      <td>0</td>\n",
       "      <td>0</td>\n",
       "      <td>0</td>\n",
       "    </tr>\n",
       "    <tr>\n",
       "      <th>3</th>\n",
       "      <td>0</td>\n",
       "      <td>0</td>\n",
       "      <td>0</td>\n",
       "      <td>0</td>\n",
       "      <td>0</td>\n",
       "      <td>0</td>\n",
       "      <td>0</td>\n",
       "      <td>0</td>\n",
       "      <td>0</td>\n",
       "      <td>0</td>\n",
       "      <td>...</td>\n",
       "      <td>0</td>\n",
       "      <td>0</td>\n",
       "      <td>0</td>\n",
       "      <td>0</td>\n",
       "      <td>0</td>\n",
       "      <td>0</td>\n",
       "      <td>0</td>\n",
       "      <td>0</td>\n",
       "      <td>0</td>\n",
       "      <td>0</td>\n",
       "    </tr>\n",
       "    <tr>\n",
       "      <th>4</th>\n",
       "      <td>0</td>\n",
       "      <td>0</td>\n",
       "      <td>0</td>\n",
       "      <td>0</td>\n",
       "      <td>0</td>\n",
       "      <td>0</td>\n",
       "      <td>0</td>\n",
       "      <td>0</td>\n",
       "      <td>0</td>\n",
       "      <td>0</td>\n",
       "      <td>...</td>\n",
       "      <td>0</td>\n",
       "      <td>0</td>\n",
       "      <td>0</td>\n",
       "      <td>0</td>\n",
       "      <td>0</td>\n",
       "      <td>0</td>\n",
       "      <td>0</td>\n",
       "      <td>0</td>\n",
       "      <td>0</td>\n",
       "      <td>0</td>\n",
       "    </tr>\n",
       "  </tbody>\n",
       "</table>\n",
       "<p>5 rows × 784 columns</p>\n",
       "</div>"
      ],
      "text/plain": [
       "   pixel0  pixel1  pixel2  pixel3  pixel4  pixel5  pixel6  pixel7  pixel8  \\\n",
       "0       0       0       0       0       0       0       0       0       0   \n",
       "1       0       0       0       0       0       0       0       0       0   \n",
       "2       0       0       0       0       0       0       0       0       0   \n",
       "3       0       0       0       0       0       0       0       0       0   \n",
       "4       0       0       0       0       0       0       0       0       0   \n",
       "\n",
       "   pixel9  ...  pixel774  pixel775  pixel776  pixel777  pixel778  pixel779  \\\n",
       "0       0  ...         0         0         0         0         0         0   \n",
       "1       0  ...         0         0         0         0         0         0   \n",
       "2       0  ...         0         0         0         0         0         0   \n",
       "3       0  ...         0         0         0         0         0         0   \n",
       "4       0  ...         0         0         0         0         0         0   \n",
       "\n",
       "   pixel780  pixel781  pixel782  pixel783  \n",
       "0         0         0         0         0  \n",
       "1         0         0         0         0  \n",
       "2         0         0         0         0  \n",
       "3         0         0         0         0  \n",
       "4         0         0         0         0  \n",
       "\n",
       "[5 rows x 784 columns]"
      ]
     },
     "execution_count": 3,
     "metadata": {},
     "output_type": "execute_result"
    }
   ],
   "source": [
    "dataset_test.head()"
   ]
  },
  {
   "cell_type": "code",
   "execution_count": 4,
   "id": "contained-camcorder",
   "metadata": {
    "execution": {
     "iopub.execute_input": "2021-06-23T08:28:58.230726Z",
     "iopub.status.busy": "2021-06-23T08:28:58.229775Z",
     "iopub.status.idle": "2021-06-23T08:28:58.232441Z",
     "shell.execute_reply": "2021-06-23T08:28:58.232926Z",
     "shell.execute_reply.started": "2021-06-23T08:26:33.893046Z"
    },
    "papermill": {
     "duration": 0.019303,
     "end_time": "2021-06-23T08:28:58.233122",
     "exception": false,
     "start_time": "2021-06-23T08:28:58.213819",
     "status": "completed"
    },
    "tags": []
   },
   "outputs": [],
   "source": [
    "X_train = dataset_train.iloc[:,1:].values\n",
    "y_train = dataset_train.iloc[:,0].values\n",
    "X_test = dataset_test.iloc[:,:].values\n"
   ]
  },
  {
   "cell_type": "code",
   "execution_count": 5,
   "id": "recognized-division",
   "metadata": {
    "execution": {
     "iopub.execute_input": "2021-06-23T08:28:58.275742Z",
     "iopub.status.busy": "2021-06-23T08:28:58.274950Z",
     "iopub.status.idle": "2021-06-23T08:28:58.340500Z",
     "shell.execute_reply": "2021-06-23T08:28:58.339926Z",
     "shell.execute_reply.started": "2021-06-23T08:11:34.648191Z"
    },
    "papermill": {
     "duration": 0.096726,
     "end_time": "2021-06-23T08:28:58.340653",
     "exception": false,
     "start_time": "2021-06-23T08:28:58.243927",
     "status": "completed"
    },
    "tags": []
   },
   "outputs": [
    {
     "data": {
      "image/png": "[encoded data removed]",
      "text/plain": [
       "<Figure size 432x288 with 1 Axes>"
      ]
     },
     "metadata": {
      "needs_background": "light"
     },
     "output_type": "display_data"
    }
   ],
   "source": [
    "import matplotlib.pyplot as plt\n",
    "import matplotlib as mpl\n",
    "some_digit = X_train[0]\n",
    "some_digit_image = some_digit.reshape(28,28)\n",
    "plt.imshow(some_digit_image,cmap=plt.cm.binary)\n",
    "plt.axis(\"off\")\n",
    "plt.show()"
   ]
  },
  {
   "cell_type": "code",
   "execution_count": 6,
   "id": "relevant-vault",
   "metadata": {
    "execution": {
     "iopub.execute_input": "2021-06-23T08:28:58.368495Z",
     "iopub.status.busy": "2021-06-23T08:28:58.367669Z",
     "iopub.status.idle": "2021-06-23T08:28:59.498079Z",
     "shell.execute_reply": "2021-06-23T08:28:59.497418Z",
     "shell.execute_reply.started": "2021-06-23T08:12:40.557175Z"
    },
    "papermill": {
     "duration": 1.146028,
     "end_time": "2021-06-23T08:28:59.498232",
     "exception": false,
     "start_time": "2021-06-23T08:28:58.352204",
     "status": "completed"
    },
    "tags": []
   },
   "outputs": [],
   "source": [
    "from sklearn.ensemble import RandomForestClassifier\n",
    "from sklearn.model_selection import GridSearchCV\n"
   ]
  },
  {
   "cell_type": "code",
   "execution_count": 7,
   "id": "imposed-marshall",
   "metadata": {
    "execution": {
     "iopub.execute_input": "2021-06-23T08:28:59.524333Z",
     "iopub.status.busy": "2021-06-23T08:28:59.523711Z",
     "iopub.status.idle": "2021-06-23T08:28:59.527289Z",
     "shell.execute_reply": "2021-06-23T08:28:59.527760Z",
     "shell.execute_reply.started": "2021-06-23T08:12:43.304317Z"
    },
    "papermill": {
     "duration": 0.018055,
     "end_time": "2021-06-23T08:28:59.527918",
     "exception": false,
     "start_time": "2021-06-23T08:28:59.509863",
     "status": "completed"
    },
    "tags": []
   },
   "outputs": [],
   "source": [
    "rnd_clf = RandomForestClassifier(n_estimators=300,max_depth=30)"
   ]
  },
  {
   "cell_type": "code",
   "execution_count": 8,
   "id": "premier-teaching",
   "metadata": {
    "execution": {
     "iopub.execute_input": "2021-06-23T08:28:59.554845Z",
     "iopub.status.busy": "2021-06-23T08:28:59.554242Z",
     "iopub.status.idle": "2021-06-23T08:30:26.057848Z",
     "shell.execute_reply": "2021-06-23T08:30:26.058360Z",
     "shell.execute_reply.started": "2021-06-23T08:14:19.761896Z"
    },
    "papermill": {
     "duration": 86.5191,
     "end_time": "2021-06-23T08:30:26.058533",
     "exception": false,
     "start_time": "2021-06-23T08:28:59.539433",
     "status": "completed"
    },
    "tags": []
   },
   "outputs": [
    {
     "data": {
      "text/plain": [
       "RandomForestClassifier(max_depth=30, n_estimators=300)"
      ]
     },
     "execution_count": 8,
     "metadata": {},
     "output_type": "execute_result"
    }
   ],
   "source": [
    "rnd_clf.fit(X_train,y_train)"
   ]
  },
  {
   "cell_type": "code",
   "execution_count": 9,
   "id": "indoor-selling",
   "metadata": {
    "execution": {
     "iopub.execute_input": "2021-06-23T08:30:26.086294Z",
     "iopub.status.busy": "2021-06-23T08:30:26.085583Z",
     "iopub.status.idle": "2021-06-23T08:30:31.091820Z",
     "shell.execute_reply": "2021-06-23T08:30:31.091236Z",
     "shell.execute_reply.started": "2021-06-23T08:16:08.055763Z"
    },
    "papermill": {
     "duration": 5.021858,
     "end_time": "2021-06-23T08:30:31.091967",
     "exception": false,
     "start_time": "2021-06-23T08:30:26.070109",
     "status": "completed"
    },
    "tags": []
   },
   "outputs": [
    {
     "data": {
      "text/plain": [
       "1.0"
      ]
     },
     "execution_count": 9,
     "metadata": {},
     "output_type": "execute_result"
    }
   ],
   "source": [
    "from sklearn.metrics import accuracy_score\n",
    "score = accuracy_score(y_train,rnd_clf.predict(X_train))\n",
    "score"
   ]
  },
  {
   "cell_type": "code",
   "execution_count": 10,
   "id": "premier-german",
   "metadata": {
    "execution": {
     "iopub.execute_input": "2021-06-23T08:30:31.124237Z",
     "iopub.status.busy": "2021-06-23T08:30:31.122929Z",
     "iopub.status.idle": "2021-06-23T08:30:34.585304Z",
     "shell.execute_reply": "2021-06-23T08:30:34.584754Z",
     "shell.execute_reply.started": "2021-06-23T08:28:30.049402Z"
    },
    "papermill": {
     "duration": 3.480447,
     "end_time": "2021-06-23T08:30:34.585444",
     "exception": false,
     "start_time": "2021-06-23T08:30:31.104997",
     "status": "completed"
    },
    "tags": []
   },
   "outputs": [
    {
     "name": "stdout",
     "output_type": "stream",
     "text": [
      "Your submission has been done succesfully\n"
     ]
    }
   ],
   "source": [
    "predictions  = rnd_clf.predict(X_test)\n",
    "output = pd.DataFrame({\"ImageID\":dataset_test.index+1,\"Label\":predictions})\n",
    "output.to_csv(\"my_submission.csv\",index=False)\n",
    "print(\"Your submission has been done succesfully\")"
   ]
  },
  {
   "cell_type": "code",
   "execution_count": null,
   "id": "separate-queens",
   "metadata": {
    "papermill": {
     "duration": 0.01158,
     "end_time": "2021-06-23T08:30:34.609013",
     "exception": false,
     "start_time": "2021-06-23T08:30:34.597433",
     "status": "completed"
    },
    "tags": []
   },
   "outputs": [],
   "source": []
  }
 ],
 "metadata": {
  "kernelspec": {
   "display_name": "Python 3",
   "language": "python",
   "name": "python3"
  },
  "language_info": {
   "codemirror_mode": {
    "name": "ipython",
    "version": 3
   },
   "file_extension": ".py",
   "mimetype": "text/x-python",
   "name": "python",
   "nbconvert_exporter": "python",
   "pygments_lexer": "ipython3",
   "version": "3.7.10"
  },
  "papermill": {
   "default_parameters": {},
   "duration": 110.80759,
   "end_time": "2021-06-23T08:30:35.329671",
   "environment_variables": {},
   "exception": null,
   "input_path": "__notebook__.ipynb",
   "output_path": "__notebook__.ipynb",
   "parameters": {},
   "start_time": "2021-06-23T08:28:44.522081",
   "version": "2.3.3"
  }
 },
 "nbformat": 4,
 "nbformat_minor": 5
}
